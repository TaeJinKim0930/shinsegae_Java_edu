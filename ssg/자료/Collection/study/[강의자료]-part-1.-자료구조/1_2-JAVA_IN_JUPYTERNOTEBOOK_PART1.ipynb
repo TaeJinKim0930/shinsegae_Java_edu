{
 "cells": [
  {
   "cell_type": "markdown",
   "metadata": {},
   "source": [
    "<div class=\"alert alert-block\" style=\"border: 1px solid #455A64;background-color:#ECEFF1;padding:5px;font-size:0.9em;\">\n",
    "본 자료와 관련 영상 컨텐츠는 저작권법 제25조 2항에 의해 보호를 받습니다. <br>본 컨텐츠 및 컨텐츠 일부 문구 등을 외부에 공개하거나, 요약해서 게시하지 말아주세요.\n",
    "</div>"
   ]
  },
  {
   "cell_type": "markdown",
   "metadata": {},
   "source": [
    "## 1. JAVA 설치\n",
    "\n",
    "<div class=\"alert alert-block\" style=\"border: 2px solid #E65100;background-color:#FFF3E0;padding:10px\">\n",
    "<font size=\"4em\" style=\"font-weight:bold;color:#BF360C;\">사전에 Java JDK 가 9 이상 설치되어 있어야 하며, 자신의 JDK 가 오래 전에 설치된 예전 버전일 수 있으므로, 이 경우, 기존 버전 삭제 후, 이전 JDK 설치 영상에 따라, 최신 버전으로 설치하는 것도 권장함 (특히 윈도우의 경우 PATH 설정도 정확히 하기를 권장함)</font>\n",
    "</div>\n",
    "\n",
    "\n",
    "\n",
    "- 설치 방법\n",
    "> 가장 쉬운 방법을 설명드립니다. \n",
    "> 주피터 노트북 상에서 터미널 명령을 실행하면, 폴더 경로만 맞춰주시면 바로 실행이 됩니다\n",
    "  1. 주피터 노트북 상의 python 과 터미널 상의 python 명령 폴더가 동일하면, ijava-최신버전.zip 압축을 푼 디렉토리에서 다음 명령 실행\n",
    "     ```bash\n",
    "     !python install.py --sys-prefix\n",
    "     ```\n",
    "\n",
    "> 이상을 진행한 후, 주피터 노트북을 껐다 키거나, 컴퓨터 자체를 껐다 킨 후, 주피터 노트북 오픈"
   ]
  },
  {
   "cell_type": "code",
   "execution_count": 3,
   "metadata": {
    "scrolled": true
   },
   "outputs": [
    {
     "name": "stdout",
     "output_type": "stream",
     "text": [
      "install.py:164: DeprecationWarning: replace is ignored. Installing a kernelspec always replaces an existing installation\n",
      "  install_dest = KernelSpecManager().install_kernel_spec(\n",
      "Installed java kernel into \"/Users/davelee/opt/anaconda3/share/jupyter/kernels/java\"\n"
     ]
    }
   ],
   "source": [
    "!python install.py --sys-prefix"
   ]
  },
  {
   "cell_type": "markdown",
   "metadata": {},
   "source": [
    "<div class=\"alert alert-block\" style=\"border: 1px solid #455A64;background-color:#ECEFF1;padding:5px;font-size:0.9em;\">\n",
    "본 자료와 관련 영상 컨텐츠는 저작권법 제25조 2항에 의해 보호를 받습니다. <br>본 컨텐츠 및 컨텐츠 일부 문구 등을 외부에 공개하거나, 요약해서 게시하지 말아주세요.\n",
    "</div>"
   ]
  }
 ],
 "metadata": {
  "kernelspec": {
   "display_name": "Python 3",
   "language": "python",
   "name": "python3"
  },
  "language_info": {
   "codemirror_mode": {
    "name": "ipython",
    "version": 3
   },
   "file_extension": ".py",
   "mimetype": "text/x-python",
   "name": "python",
   "nbconvert_exporter": "python",
   "pygments_lexer": "ipython3",
   "version": "3.8.5"
  }
 },
 "nbformat": 4,
 "nbformat_minor": 4
}
